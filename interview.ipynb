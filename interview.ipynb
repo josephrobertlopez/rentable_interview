{
 "cells": [
  {
   "cell_type": "code",
   "execution_count": 1,
   "metadata": {},
   "outputs": [],
   "source": [
    "#Import method which fetches the property info\n",
    "from xml_assessment import *\n",
    "#SQLITE library of my own\n",
    "from sqlite_methods import *"
   ]
  },
  {
   "cell_type": "code",
   "execution_count": 2,
   "metadata": {},
   "outputs": [
    {
     "data": {
      "text/plain": [
       "[{'property_id': '2222',\n",
       "  'name': 'ABODO',\n",
       "  'email': 'leads@abodo.com',\n",
       "  'bedrooms': '3.0'},\n",
       " {'property_id': '1111',\n",
       "  'name': 'ABODO',\n",
       "  'email': 'leads@abodo.com',\n",
       "  'bedrooms': '3.0'},\n",
       " {'property_id': '1111',\n",
       "  'name': 'ABODO',\n",
       "  'email': 'leads@abodo.com',\n",
       "  'bedrooms': '3.0'}]"
      ]
     },
     "execution_count": 2,
     "metadata": {},
     "output_type": "execute_result"
    }
   ],
   "source": [
    "url = \"https://s3.amazonaws.com/abodo-misc/sample_abodo_feed.xml\"\n",
    "#Fetch all properties from madison wisconsin\n",
    "properties = url_to_list(url,'Madison','WI')\n",
    "properties"
   ]
  },
  {
   "cell_type": "code",
   "execution_count": 3,
   "metadata": {},
   "outputs": [],
   "source": [
    "property_data = \"\"\"\n",
    "CREATE TABLE IF NOT EXISTS property(\n",
    "property_id INTEGER NOT NULL,\n",
    "name varchar(255) NOT NULL,\n",
    "email varchar(255) NOT NULL,\n",
    "bedrooms REAL NOT NULL\n",
    ");\n",
    "\"\"\""
   ]
  },
  {
   "cell_type": "code",
   "execution_count": 4,
   "metadata": {},
   "outputs": [],
   "source": [
    "#Instantiate db and create property table\n",
    "con = create_connection()\n",
    "create_table(con,create_table_sql=property_data)"
   ]
  },
  {
   "cell_type": "code",
   "execution_count": 5,
   "metadata": {},
   "outputs": [],
   "source": [
    "#Get property data and insert each property's info as a row into the table\n",
    "keys = properties[0].keys()\n",
    "keys = '('+','.join(keys)+')'\n",
    "for prop in properties:\n",
    "    values = prop.values()\n",
    "    values = [\"'\"+v+\"'\" for v in values]\n",
    "    values = '('+','.join(values)+')'\n",
    "    sql = \"INSERT INTO property\"+keys+\" Values\"+values\n",
    "    execute_query(con,sql)"
   ]
  },
  {
   "cell_type": "code",
   "execution_count": 6,
   "metadata": {},
   "outputs": [
    {
     "data": {
      "text/plain": [
       "[(2222, 'ABODO', 'leads@abodo.com', 3.0),\n",
       " (1111, 'ABODO', 'leads@abodo.com', 3.0),\n",
       " (1111, 'ABODO', 'leads@abodo.com', 3.0)]"
      ]
     },
     "execution_count": 6,
     "metadata": {},
     "output_type": "execute_result"
    }
   ],
   "source": [
    "execute_query(con,'SELECT * FROM property')"
   ]
  }
 ],
 "metadata": {
  "kernelspec": {
   "display_name": "Python 3",
   "language": "python",
   "name": "python3"
  },
  "language_info": {
   "codemirror_mode": {
    "name": "ipython",
    "version": 3
   },
   "file_extension": ".py",
   "mimetype": "text/x-python",
   "name": "python",
   "nbconvert_exporter": "python",
   "pygments_lexer": "ipython3",
   "version": "3.8.5"
  }
 },
 "nbformat": 4,
 "nbformat_minor": 4
}
